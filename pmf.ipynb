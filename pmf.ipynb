{
 "cells": [
  {
   "cell_type": "code",
   "execution_count": 11,
   "id": "9dddbf41-3dfd-479b-b4b0-d7f4c9111430",
   "metadata": {},
   "outputs": [],
   "source": [
    "import pandas as pd \n",
    "import random\n",
    "\n",
    "    \n",
    "li=[]\n",
    "for i in range(10000):\n",
    "    li.append(random.randint(1,6))"
   ]
  },
  {
   "cell_type": "code",
   "execution_count": 3,
   "id": "a71cd7ea-d564-4571-a203-92087d047632",
   "metadata": {},
   "outputs": [
    {
     "data": {
      "text/plain": [
       "10000"
      ]
     },
     "execution_count": 3,
     "metadata": {},
     "output_type": "execute_result"
    }
   ],
   "source": [
    "len(li)"
   ]
  },
  {
   "cell_type": "code",
   "execution_count": 4,
   "id": "5bd15049-a49d-46cc-8a45-5fe120a1750b",
   "metadata": {},
   "outputs": [
    {
     "data": {
      "text/plain": [
       "[4, 5, 6, 6, 6]"
      ]
     },
     "execution_count": 4,
     "metadata": {},
     "output_type": "execute_result"
    }
   ],
   "source": [
    "li[:5]"
   ]
  },
  {
   "cell_type": "code",
   "execution_count": 5,
   "id": "b00485c5-9c2d-4a72-affc-600b41269170",
   "metadata": {},
   "outputs": [
    {
     "data": {
      "text/plain": [
       "[6, 6, 4]"
      ]
     },
     "execution_count": 5,
     "metadata": {},
     "output_type": "execute_result"
    }
   ],
   "source": [
    "li[3:6]"
   ]
  },
  {
   "cell_type": "code",
   "execution_count": 13,
   "id": "330337c8-559a-4a05-86b7-fabf57860fda",
   "metadata": {},
   "outputs": [
    {
     "data": {
      "text/plain": [
       "[1, 6, 5, 6, 5]"
      ]
     },
     "execution_count": 13,
     "metadata": {},
     "output_type": "execute_result"
    }
   ],
   "source": [
    "li[3:8]"
   ]
  },
  {
   "cell_type": "code",
   "execution_count": 16,
   "id": "654fc90f-0a21-4189-afec-f5f934df8efe",
   "metadata": {},
   "outputs": [
    {
     "data": {
      "text/plain": [
       "0       2\n",
       "1       3\n",
       "2       6\n",
       "3       1\n",
       "4       6\n",
       "       ..\n",
       "9995    4\n",
       "9996    2\n",
       "9997    3\n",
       "9998    2\n",
       "9999    6\n",
       "Length: 10000, dtype: int64"
      ]
     },
     "execution_count": 16,
     "metadata": {},
     "output_type": "execute_result"
    }
   ],
   "source": [
    "#finding the list in series\n",
    "pd.Series(li)"
   ]
  },
  {
   "cell_type": "code",
   "execution_count": 21,
   "id": "c084222f-6914-4ff4-a434-9a5c58082d3b",
   "metadata": {},
   "outputs": [
    {
     "data": {
      "text/plain": [
       "3    1708\n",
       "6    1697\n",
       "4    1670\n",
       "5    1662\n",
       "1    1652\n",
       "2    1611\n",
       "dtype: int64"
      ]
     },
     "execution_count": 21,
     "metadata": {},
     "output_type": "execute_result"
    }
   ],
   "source": [
    "#finding the number of counts of dice with their respective values\n",
    "s=pd.Series(li).value_counts()\n",
    "s"
   ]
  },
  {
   "cell_type": "code",
   "execution_count": 30,
   "id": "10b6e674-343b-46f6-be0f-230d5fe50dd4",
   "metadata": {},
   "outputs": [],
   "source": [
    "s=(pd.Series(li).value_counts()/pd.Series(li).value_counts().sum()).sort_index()"
   ]
  },
  {
   "cell_type": "code",
   "execution_count": 31,
   "id": "8c91f87b-7d4a-4759-a708-a9b5f6f062f6",
   "metadata": {},
   "outputs": [
    {
     "data": {
      "text/plain": [
       "1    0.1652\n",
       "2    0.1611\n",
       "3    0.1708\n",
       "4    0.1670\n",
       "5    0.1662\n",
       "6    0.1697\n",
       "dtype: float64"
      ]
     },
     "execution_count": 31,
     "metadata": {},
     "output_type": "execute_result"
    }
   ],
   "source": [
    "s"
   ]
  },
  {
   "cell_type": "code",
   "execution_count": null,
   "id": "3e942d86-a998-4480-ac17-3c061b6907ca",
   "metadata": {},
   "outputs": [],
   "source": [
    "s.plot(kind="
   ]
  }
 ],
 "metadata": {
  "kernelspec": {
   "display_name": "Python 3 (ipykernel)",
   "language": "python",
   "name": "python3"
  },
  "language_info": {
   "codemirror_mode": {
    "name": "ipython",
    "version": 3
   },
   "file_extension": ".py",
   "mimetype": "text/x-python",
   "name": "python",
   "nbconvert_exporter": "python",
   "pygments_lexer": "ipython3",
   "version": "3.10.8"
  }
 },
 "nbformat": 4,
 "nbformat_minor": 5
}
